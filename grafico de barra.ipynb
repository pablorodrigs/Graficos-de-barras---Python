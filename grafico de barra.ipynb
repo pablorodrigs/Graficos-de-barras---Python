{
 "cells": [
  {
   "cell_type": "code",
   "execution_count": 4,
   "id": "72390f84",
   "metadata": {},
   "outputs": [
    {
     "data": {
      "image/png": "[encoded data removed]",
      "text/plain": [
       "<Figure size 432x288 with 1 Axes>"
      ]
     },
     "metadata": {
      "needs_background": "light"
     },
     "output_type": "display_data"
    }
   ],
   "source": [
    "import matplotlib.pyplot as plt\n",
    "\n",
    "\n",
    "\n",
    "x = [1,3,5,7,9]\n",
    "y = [2,3,7,1,0]\n",
    "\n",
    "\n",
    "\n",
    "\n",
    "titulo = \"grafico de barras\"\n",
    "eixox = \"eixo x\"\n",
    "eixoy = \"eixo y\"\n",
    "\n",
    "\n",
    "\n",
    "# nome do grafico\n",
    "plt.title(\"titulo\")\n",
    "\n",
    "# definir legenas\n",
    "plt.xlabel(\"eixox\")\n",
    "plt.ylabel(\"eixoy\")\n",
    "\n",
    "\n",
    "plt.bar (x,y)\n",
    "\n",
    "plt.show()"
   ]
  },
  {
   "cell_type": "code",
   "execution_count": null,
   "id": "6f76d9a4",
   "metadata": {},
   "outputs": [],
   "source": []
  }
 ],
 "metadata": {
  "kernelspec": {
   "display_name": "Python 3",
   "language": "python",
   "name": "python3"
  },
  "language_info": {
   "codemirror_mode": {
    "name": "ipython",
    "version": 3
   },
   "file_extension": ".py",
   "mimetype": "text/x-python",
   "name": "python",
   "nbconvert_exporter": "python",
   "pygments_lexer": "ipython3",
   "version": "3.8.8"
  }
 },
 "nbformat": 4,
 "nbformat_minor": 5
}
